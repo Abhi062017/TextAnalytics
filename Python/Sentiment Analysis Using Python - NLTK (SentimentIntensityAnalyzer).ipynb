{
 "cells": [
  {
   "cell_type": "markdown",
   "metadata": {},
   "source": [
    "Following notebook demonstrates a quick way to predict sentiment of a writtent text with no prior label data training.\n",
    "\n",
    "Hope you like it !"
   ]
  },
  {
   "cell_type": "code",
   "execution_count": 13,
   "metadata": {
    "collapsed": false
   },
   "outputs": [],
   "source": [
    "import os\n",
    "import pandas as pd\n",
    "import math as m\n",
    "from time import gmtime, strftime\n",
    "import numpy as np\n",
    "import pyodbc\n",
    "import sqlalchemy as sa \n",
    "import psycopg2\n",
    "import re"
   ]
  },
  {
   "cell_type": "code",
   "execution_count": 4,
   "metadata": {
    "collapsed": false
   },
   "outputs": [
    {
     "name": "stderr",
     "output_type": "stream",
     "text": [
      "/home/rahul/anaconda2/lib/python2.7/site-packages/nltk/twitter/__init__.py:20: UserWarning: The twython library has not been installed. Some functionality from the twitter package will not be available.\n",
      "  warnings.warn(\"The twython library has not been installed. \"\n"
     ]
    }
   ],
   "source": [
    "import nltk.classify.util\n",
    "from nltk.classify import NaiveBayesClassifier\n",
    "from nltk.corpus import movie_reviews\n",
    "from nltk.corpus import stopwords\n",
    "from nltk.tokenize import word_tokenize\n",
    "from nltk.corpus import wordnet\n",
    "from nltk import tokenize\n",
    "from nltk.sentiment.vader import SentimentIntensityAnalyzer"
   ]
  },
  {
   "cell_type": "markdown",
   "metadata": {
    "collapsed": false
   },
   "source": [
    "Initialize Sentiment Analyzer : An out of the box functaionality from NLTK library"
   ]
  },
  {
   "cell_type": "code",
   "execution_count": 5,
   "metadata": {
    "collapsed": false
   },
   "outputs": [],
   "source": [
    "sid = SentimentIntensityAnalyzer()"
   ]
  },
  {
   "cell_type": "markdown",
   "metadata": {},
   "source": [
    "Let's do a quick check with analysis of one tweet and see how good this out of the box functionality works"
   ]
  },
  {
   "cell_type": "code",
   "execution_count": 6,
   "metadata": {
    "collapsed": false
   },
   "outputs": [
    {
     "name": "stdout",
     "output_type": "stream",
     "text": [
      "Hon'ble LG agreed DISCOMS shud pay compensation 4 unscheduled power cuts 2 make them accountable. Fairplay n equity 2 consumers 2 be ensured\n"
     ]
    }
   ],
   "source": [
    "AK_Tweet=\"Hon'ble LG agreed DISCOMS shud pay compensation 4 unscheduled power cuts 2 make them accountable. Fairplay n equity 2 consumers 2 be ensured\"\n",
    "print AK_Tweet"
   ]
  },
  {
   "cell_type": "markdown",
   "metadata": {},
   "source": [
    "Let's check polarity score for the above tweet"
   ]
  },
  {
   "cell_type": "code",
   "execution_count": 7,
   "metadata": {
    "collapsed": false
   },
   "outputs": [
    {
     "name": "stdout",
     "output_type": "stream",
     "text": [
      "{'neg': 0.174, 'neu': 0.725, 'pos': 0.101, 'compound': -0.128}\n"
     ]
    }
   ],
   "source": [
    "print sid.polarity_scores(AK_Tweet)"
   ]
  },
  {
   "cell_type": "markdown",
   "metadata": {},
   "source": [
    "The above polaity score suggest most of the words used are neutral in nature however overall compound score is \"negative\"\n",
    "\n",
    "Also, notice that negative score is higher than positive score suggeting me that its a negative tweet.\n",
    "\n",
    "Which is true. Isn't it !"
   ]
  },
  {
   "cell_type": "markdown",
   "metadata": {},
   "source": [
    "Let's try removing stopwords & numbers as neither conveys sentiments and see if it improves the scores."
   ]
  },
  {
   "cell_type": "code",
   "execution_count": 18,
   "metadata": {
    "collapsed": false
   },
   "outputs": [
    {
     "name": "stdout",
     "output_type": "stream",
     "text": [
      " Hon'ble LG agreed DISCOMS shud pay compensation  unscheduled power cuts  make accountable. Fairplay n equity  consumers  ensured\n"
     ]
    }
   ],
   "source": [
    "stop_words = set(stopwords.words('english'))\n",
    "words = AK_Tweet.split()\n",
    "AK_Tweet_WithoutStopWordsnNumbers = ''\n",
    "for r in words:\n",
    "    if not r in stop_words:\n",
    "        AK_Tweet_WithoutStopWordsnNumbers = AK_Tweet_WithoutStopWordsnNumbers + ' ' +  r\n",
    "AK_Tweet_WithoutStopWordsnNumbers = re.sub(r'\\d+', '', AK_Tweet_WithoutStopWordsnNumbers)\n",
    "print AK_Tweet_WithoutStopWordsnNumbers"
   ]
  },
  {
   "cell_type": "code",
   "execution_count": 19,
   "metadata": {
    "collapsed": false
   },
   "outputs": [
    {
     "name": "stdout",
     "output_type": "stream",
     "text": [
      "{'neg': 0.193, 'neu': 0.695, 'pos': 0.112, 'compound': -0.128}\n"
     ]
    }
   ],
   "source": [
    "print sid.polarity_scores(AK_Tweet_WithoutStopWordsnNumbers)"
   ]
  },
  {
   "cell_type": "markdown",
   "metadata": {},
   "source": [
    "Let's say you have a dataframe with text to be analysed likw :\n",
    "\n",
    "* movie reviews\n",
    "* call notes\n",
    "* tweets \n",
    "* facebook posts etc\n",
    "\n",
    "and all the posts are unlabeled i.e no prior knowledge of sentiment available. \n",
    "\n",
    "Following code can do the trick and give a sentiment inidicator or classify text as positive of negative !!! \n"
   ]
  },
  {
   "cell_type": "code",
   "execution_count": 9,
   "metadata": {
    "collapsed": false
   },
   "outputs": [
    {
     "data": {
      "text/html": [
       "<div>\n",
       "<table border=\"1\" class=\"dataframe\">\n",
       "  <thead>\n",
       "    <tr style=\"text-align: right;\">\n",
       "      <th></th>\n",
       "      <th>asin</th>\n",
       "      <th>helpful</th>\n",
       "      <th>overall</th>\n",
       "      <th>reviewText</th>\n",
       "      <th>reviewTime</th>\n",
       "      <th>reviewerID</th>\n",
       "      <th>reviewerName</th>\n",
       "      <th>summary</th>\n",
       "      <th>unixReviewTime</th>\n",
       "    </tr>\n",
       "  </thead>\n",
       "  <tbody>\n",
       "    <tr>\n",
       "      <th>0</th>\n",
       "      <td>B000H00VBQ</td>\n",
       "      <td>[0, 0]</td>\n",
       "      <td>2</td>\n",
       "      <td>I had big expectations because I love English ...</td>\n",
       "      <td>05 3, 2014</td>\n",
       "      <td>A11N155CW1UV02</td>\n",
       "      <td>AdrianaM</td>\n",
       "      <td>A little bit boring for me</td>\n",
       "      <td>1399075200</td>\n",
       "    </tr>\n",
       "    <tr>\n",
       "      <th>1</th>\n",
       "      <td>B000H00VBQ</td>\n",
       "      <td>[0, 0]</td>\n",
       "      <td>5</td>\n",
       "      <td>I highly recommend this series. It is a must f...</td>\n",
       "      <td>09 3, 2012</td>\n",
       "      <td>A3BC8O2KCL29V2</td>\n",
       "      <td>Carol T</td>\n",
       "      <td>Excellent Grown Up TV</td>\n",
       "      <td>1346630400</td>\n",
       "    </tr>\n",
       "  </tbody>\n",
       "</table>\n",
       "</div>"
      ],
      "text/plain": [
       "         asin helpful  overall  \\\n",
       "0  B000H00VBQ  [0, 0]        2   \n",
       "1  B000H00VBQ  [0, 0]        5   \n",
       "\n",
       "                                          reviewText  reviewTime  \\\n",
       "0  I had big expectations because I love English ...  05 3, 2014   \n",
       "1  I highly recommend this series. It is a must f...  09 3, 2012   \n",
       "\n",
       "       reviewerID reviewerName                     summary  unixReviewTime  \n",
       "0  A11N155CW1UV02     AdrianaM  A little bit boring for me      1399075200  \n",
       "1  A3BC8O2KCL29V2      Carol T       Excellent Grown Up TV      1346630400  "
      ]
     },
     "execution_count": 9,
     "metadata": {},
     "output_type": "execute_result"
    }
   ],
   "source": [
    "from urllib2 import Request, urlopen\n",
    "import json\n",
    "data = pd.read_json(\"//home//rahul//Downloads//Amazon_Instant_Video_5.json\", lines=True)\n",
    "data.head(2)"
   ]
  },
  {
   "cell_type": "markdown",
   "metadata": {},
   "source": [
    "Classify product reviews & Get Positive reviews only"
   ]
  },
  {
   "cell_type": "code",
   "execution_count": 12,
   "metadata": {
    "collapsed": false
   },
   "outputs": [
    {
     "name": "stdout",
     "output_type": "stream",
     "text": [
      "\n",
      "Positive Reviews\n",
      "I highly recommend this series. It is a must for anyone who is yearning to watch \"grown up\" television. Complex characters and plots to keep one totally involved. Thank you Amazin Prime.\n",
      "\n",
      "Positive Reviews\n",
      "This show always is excellent, as far as british crime or mystery showsgoes this is one of the best ever made.  The stories are well done and the acting is top notch with interesting twists in the realistic and brutal storylines.  This show pulls no punches as it enters into the twisted minds of criminals and the profiler psychiatrist who helps out in a northern english city police force. The show looks like it is shot in Manchester but it is called by another name in the show.  One episode is not on this disc the excellent 'prayer of the bone\" which is on a seperate disc.  Still crime shows don't get much better than this one on either side of the ocean.  It's just a great show that never has had a less than well made episode. Unfortunately like all British shows you only get about five shows a year ,  but these are an hour and a half shows , still one could hope for at least 8 of these a year.  The realism and depth of the main character Tony Hill as protrayed by the excellent Robson Green is well worth viewing because he just makes this role truly part of himself in everyway.  I bet he went to crime scenes even in real life to research his role.  But the writers too must be applauded for their way above average stories.  Lets hope this show continues on for many years to come.\n",
      "\n",
      "Positive Reviews\n",
      "It beats watching a blank screen. However, I just don't seem to be in tune with to comedy of today.\n",
      "\n",
      "Positive Reviews\n",
      "This is the best of the best comedy Stand-up. The fact that I was able to just watch continuously one comedian after another was great. I had the best laughter I have had in a long time.\n",
      "\n",
      "Positive Reviews\n",
      "Not bad.  Didn't know any of the comedians but first time viewing put a smile on my face.  I'll check out the next season soon.\n",
      "\n",
      "Positive Reviews\n",
      "Funny, interesting, a great way to pass time. I usually enjoy standup comedy and is this is a good show for me.\n",
      "\n",
      "Positive Reviews\n",
      "I love the variety of comics.  Great for dinner TV entertainment because of length of each episode.  Many of the featured comics have gone on to even bigger TV specials so it's great to see some of their earlier material.\n",
      "\n",
      "Positive Reviews\n",
      "comedy is a matter of taste. this guy was a little funny but there are others that are far funnier than this guy\n",
      "\n",
      "Positive Reviews\n",
      "if this had to do with Dat Phan, he was hilarious, I enjoyed his comedy and would watch him alone numerous times\n",
      "\n",
      "Positive Reviews\n",
      "Watched it for Kevin Hart and only Kevin Hart!  He makes me laugh.  The best comedy comes from pain and Kevin does his comedy with a huge heart.\n",
      "\n",
      "Positive Reviews\n",
      "he's OK. His humor consists mainly of varying between a Vietnamese accent and a smooth articulate presentation of ironic situations.\n",
      "\n",
      "Positive Reviews\n",
      "some comedians are very good, some not so good, and some are just not funny.  I don't know the names to chose from and watched this by picking random episodes. However, I do know some big names in stand up comedy and these were not included on prime.\n",
      "\n",
      "Positive Reviews\n",
      "I only watched the Wanda Sykes portion of this show. I think it was interesting to watch because it was before she came out as a lesbian. She was married to a man at the time. She actually made some jokes that raised my eyebrows since she is now a lesbian. I didn't like this because it seemed hypocritical but I think Wanda Sykes is really funny. She is one of the few comedians who can make me really LOL (Laugh Out Loud). If you want to see what her comedy was like before she came out a lesbian or you are a Wanda Sykes fan, watch it. I am a huge fan of hers. I would like to see her in a live how. I am glad she is true to herself now and came out as a lesbian. I hope Wanda keeps on making me and others laugh for a long time to come.\n",
      "\n",
      "Positive Reviews\n",
      "Enjoyed some of the comedians, it was a joy to laugh after losing my father whom I was a caregiver for\n",
      "\n",
      "Positive Reviews\n",
      "All the comedians are hilarious. I have seen them all before on Comedy Central but what a great idea to put them all together. I love Amazon prime and I love their shows. They are so much better than Netflix. I got rid of my Netflix Amazon rocks and Netflix well it thymes with rocks but in a bad way.\n"
     ]
    }
   ],
   "source": [
    "for index, row in data.head(20).iterrows():\n",
    "    ss = sid.polarity_scores(row['reviewText'])\n",
    "    if((ss['pos']>0)&(ss['pos']>ss['neg'])):\n",
    "        print '\\nPositive Reviews'\n",
    "        print row['reviewText']"
   ]
  },
  {
   "cell_type": "markdown",
   "metadata": {},
   "source": [
    "Fetch Negative Reviews"
   ]
  },
  {
   "cell_type": "code",
   "execution_count": 13,
   "metadata": {
    "collapsed": false
   },
   "outputs": [
    {
     "name": "stdout",
     "output_type": "stream",
     "text": [
      "\n",
      "Negative Reviews\n",
      "I had big expectations because I love English TV, in particular Investigative and detective stuff but this guy is really boring. It didn't appeal to me at all.\n",
      "\n",
      "Negative Reviews\n",
      "This one is a real snoozer. Don't believe anything you read or hear, it's awful. I had no idea what the title means. Neither will you.\n",
      "\n",
      "Negative Reviews\n",
      "Mysteries are interesting.  The tension between Robson and the tall blond is good but not always believable.  She often seemed uncomfortable.\n",
      "\n",
      "Negative Reviews\n",
      "I discovered this series quite by accident. Having watched and appreciated Masterpiece Contemporary: Place of Execution, I was keen to read the novel (which inspired the TV adaptation) by Val McDermid. The novel was very well-written, and a nail-biting suspense thriller. Then I discovered that Val McDermid wrote other novels as well, and a couple of them inspired the TV crime drama Wire in the Blood.I finished watching all of Season 1 and have become a fan of this gritty crime drama that follows the investigations led by DI Carol Jordan (Hermione Norris). She is assisted by clinical psychologist Dr. Tony Hill (Robson Green), a rather eccentric figure who delves deeply into the minds of serial killers, studies patterns of criminal behavior and profiles criminals. His methods may seem strange at times, but he always manages to get results. Both Jordan and Hill make a strange if compelling pair, with Jordan analyzing a case based on evidence, and Hill working based on his knowledge of deviant behavior and what makes people commit disturbing crimes.Unlike some of the \"cozy\" mysteries such as the long-running Midsomer Murders - Set One and The Complete Inspector Lynley Mysteries, Wire in the Blood is not for the faint of heart. The crimes are horrific, sometimes involving children, almost always patterned on deviant behavior and the suspects are almost always very disturbed individuals. The crime scenes are difficult to watch as are the way victims are found and even the forensic examinations are graphic and unsettling. Though compelling, this is not really a show to watch in one sitting, and may very well give viewers nightmares.The first season contains three main stories, each divided into two episodes:The Mermaids Singing - Hill is on the trail of a seriously disturbed serial killer who targets homosexuals.Shadows Rising - The skeletal remains of a young woman is found, and when further evidence turns up, DI Jordan and Hill realize they have a serial killer on their hands, one with a penchant for dark-haired young women.Justice Painted Blind - Another unsettling case, this time revolving around an old child abduction and murder case. A couple of apparently random murders turn out not to be so random after all when it is discovered that the victims do share a connection involving an old court case where the accused was found not guilty. This throws up a whole bunch of suspects, including the parents of the murdered girl.The writing on this crime drama is excellent, and Robson Green is credible as the clinical psychologist who has a rare knack for profiling and getting under the skin of some of the most dangerous criminals. The drama also explores the chemistry and tension between Hill and DI Jordan, all of which result in a riveting show that keeps viewers coming back for more.The streaming was good overall with only a little delayed streaming during Episode One. There were no glitches on the other episodes. The picture quality could be improved though as it did seem a bit grainy to me.\n",
      "\n",
      "Negative Reviews\n",
      "There are many episodes in this series, so I pretty-much just skip through them to try to find a description of something I think I would like.  It's kind of a crap shoot as to whether you'll be entertained or not, but hey, if you're just sitting around trying to kill 20-30 minutes while you're waiting for something else to do, it's worth a shot.\n",
      "\n",
      "Negative Reviews\n",
      "This show is plain dumb and not funny. It is sad how much TV comedy has deteriorated. Gone are the days of fantastic shows like Seinfeld, Cheers, Frasier, Everybody loves Raymond, Tool time etc. And they are replaces with shows like this one, with 2 dimensional stupid characters, bad acting and idiotic writing, where sleazy behavior is supposed to be funny. It is not!!!The 3 guys characters all have exactly the personality; all unlikeable, dumb, juvenile, infantile, sleazy and lack any redeeming qualities, and the girl is the same shallow personality in female version.The stories all have the same theme; juvenile pursuits of cheap thrills like one night stands (referred to as \"banging\") or getting quick cash without effort. And to get these thrills these 4 characters and even the father in season 2 are willing to do anything; \"banging\" the other guy's mom, selling alcohol to minors, threatening people with Jihad terror attacks, cheating the welfare system etc.The 4 characters plus the father are supposed to be business partners and friends, but all they ever do is screw each other over. With friends like these, who need enemies?YUK!!!!!!!!!!!!!!\n",
      "\n",
      "Negative Reviews\n",
      "maybe i just dont get it...but crude not funny and irritating most of the time....guys that dumb shouldnt be on TV\n",
      "\n",
      "Negative Reviews\n",
      "It was a disappointment. I gave it a few episodes to get into it, but it didn't get any better.\n"
     ]
    }
   ],
   "source": [
    "for index, row in data.head(40).iterrows():\n",
    "    ss = sid.polarity_scores(row['reviewText'])\n",
    "    if((ss['neg']>0)&(ss['pos']<ss['neg'])):\n",
    "        print '\\nNegative Reviews'\n",
    "        print row['reviewText']"
   ]
  }
 ],
 "metadata": {
  "anaconda-cloud": {},
  "kernelspec": {
   "display_name": "Python 2",
   "language": "python",
   "name": "python2"
  },
  "language_info": {
   "codemirror_mode": {
    "name": "ipython",
    "version": 2
   },
   "file_extension": ".py",
   "mimetype": "text/x-python",
   "name": "python",
   "nbconvert_exporter": "python",
   "pygments_lexer": "ipython2",
   "version": "2.7.13"
  }
 },
 "nbformat": 4,
 "nbformat_minor": 0
}
